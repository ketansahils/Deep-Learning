{
 "cells": [
  {
   "cell_type": "code",
   "execution_count": 10,
   "metadata": {},
   "outputs": [],
   "source": [
    "import numpy as np\n",
    "import pandas as pd\n",
    "import matplotlib.pyplot as plt\n",
    "import os\n",
    "import matplotlib.image as mimg\n",
    "from PIL import Image\n",
    "\n",
    "%matplotlib inline"
   ]
  },
  {
   "cell_type": "code",
   "execution_count": 11,
   "metadata": {},
   "outputs": [],
   "source": [
    "from shutil import copyfile"
   ]
  },
  {
   "cell_type": "code",
   "execution_count": 12,
   "metadata": {},
   "outputs": [],
   "source": [
    "df = pd.DataFrame(columns=['label','copyFrom','destName'])"
   ]
  },
  {
   "cell_type": "code",
   "execution_count": 13,
   "metadata": {},
   "outputs": [
    {
     "name": "stdout",
     "output_type": "stream",
     "text": [
      "500 1000 1500 2000 2500 3000 3500 4000 4500 5000 5500 6000 6500 7000 7500 8000 8500 9000 9500 10000 10500 11000 11500 12000 12500 13000 13500 13838\n"
     ]
    }
   ],
   "source": [
    "c = 0\n",
    "for foldername in os.listdir(\"data/Images_160/\"):\n",
    "    name = \"_\".join(foldername.split(\" \"))\n",
    "    for filename in os.listdir(\"data/Images_160/{}\".format(foldername)):\n",
    "        to = name+\"_\"+filename\n",
    "        x = [name,\"data/Images_160/{}/{}\".format(foldername,filename),\"data/testvgg160/{}/{}\".format(foldername,filename)]\n",
    "        df.loc[c] = x\n",
    "        c += 1\n",
    "        if c % 500 == 0:\n",
    "            print(c,end=\" \")\n",
    "print(c)"
   ]
  },
  {
   "cell_type": "code",
   "execution_count": 14,
   "metadata": {},
   "outputs": [
    {
     "data": {
      "text/html": [
       "<div>\n",
       "<style scoped>\n",
       "    .dataframe tbody tr th:only-of-type {\n",
       "        vertical-align: middle;\n",
       "    }\n",
       "\n",
       "    .dataframe tbody tr th {\n",
       "        vertical-align: top;\n",
       "    }\n",
       "\n",
       "    .dataframe thead th {\n",
       "        text-align: right;\n",
       "    }\n",
       "</style>\n",
       "<table border=\"1\" class=\"dataframe\">\n",
       "  <thead>\n",
       "    <tr style=\"text-align: right;\">\n",
       "      <th></th>\n",
       "      <th>label</th>\n",
       "      <th>copyFrom</th>\n",
       "      <th>destName</th>\n",
       "    </tr>\n",
       "  </thead>\n",
       "  <tbody>\n",
       "    <tr>\n",
       "      <th>13160</th>\n",
       "      <td>Uma_Thurman</td>\n",
       "      <td>data/Images_160/Uma Thurman/199.jpg</td>\n",
       "      <td>data/testvgg160/Uma Thurman/199.jpg</td>\n",
       "    </tr>\n",
       "    <tr>\n",
       "      <th>2867</th>\n",
       "      <td>Colin_Farrell</td>\n",
       "      <td>data/Images_160/Colin Farrell/28.jpg</td>\n",
       "      <td>data/testvgg160/Colin Farrell/28.jpg</td>\n",
       "    </tr>\n",
       "  </tbody>\n",
       "</table>\n",
       "</div>"
      ],
      "text/plain": [
       "               label                              copyFrom  \\\n",
       "13160    Uma_Thurman   data/Images_160/Uma Thurman/199.jpg   \n",
       "2867   Colin_Farrell  data/Images_160/Colin Farrell/28.jpg   \n",
       "\n",
       "                                   destName  \n",
       "13160   data/testvgg160/Uma Thurman/199.jpg  \n",
       "2867   data/testvgg160/Colin Farrell/28.jpg  "
      ]
     },
     "execution_count": 14,
     "metadata": {},
     "output_type": "execute_result"
    }
   ],
   "source": [
    "df.sample(2)"
   ]
  },
  {
   "cell_type": "code",
   "execution_count": 15,
   "metadata": {},
   "outputs": [],
   "source": [
    "train = df.groupby('label',group_keys=False).apply(lambda x: x.sample(100))"
   ]
  },
  {
   "cell_type": "code",
   "execution_count": 16,
   "metadata": {},
   "outputs": [],
   "source": [
    "for i in test.index:\n",
    "    df.iloc[i,2] = df.iloc[i,2].replace('testvgg','trainvgg')"
   ]
  },
  {
   "cell_type": "code",
   "execution_count": 17,
   "metadata": {},
   "outputs": [
    {
     "data": {
      "text/html": [
       "<div>\n",
       "<style scoped>\n",
       "    .dataframe tbody tr th:only-of-type {\n",
       "        vertical-align: middle;\n",
       "    }\n",
       "\n",
       "    .dataframe tbody tr th {\n",
       "        vertical-align: top;\n",
       "    }\n",
       "\n",
       "    .dataframe thead th {\n",
       "        text-align: right;\n",
       "    }\n",
       "</style>\n",
       "<table border=\"1\" class=\"dataframe\">\n",
       "  <thead>\n",
       "    <tr style=\"text-align: right;\">\n",
       "      <th></th>\n",
       "      <th>label</th>\n",
       "      <th>copyFrom</th>\n",
       "      <th>destName</th>\n",
       "    </tr>\n",
       "  </thead>\n",
       "  <tbody>\n",
       "    <tr>\n",
       "      <th>0</th>\n",
       "      <td>Adam_Sandler</td>\n",
       "      <td>data/Images_160/Adam Sandler/103.jpg</td>\n",
       "      <td>data/testvgg160/Adam Sandler/103.jpg</td>\n",
       "    </tr>\n",
       "    <tr>\n",
       "      <th>1</th>\n",
       "      <td>Adam_Sandler</td>\n",
       "      <td>data/Images_160/Adam Sandler/108.jpg</td>\n",
       "      <td>data/testvgg160/Adam Sandler/108.jpg</td>\n",
       "    </tr>\n",
       "    <tr>\n",
       "      <th>2</th>\n",
       "      <td>Adam_Sandler</td>\n",
       "      <td>data/Images_160/Adam Sandler/11.jpg</td>\n",
       "      <td>data/trainvgg160/Adam Sandler/11.jpg</td>\n",
       "    </tr>\n",
       "    <tr>\n",
       "      <th>3</th>\n",
       "      <td>Adam_Sandler</td>\n",
       "      <td>data/Images_160/Adam Sandler/111.jpg</td>\n",
       "      <td>data/trainvgg160/Adam Sandler/111.jpg</td>\n",
       "    </tr>\n",
       "    <tr>\n",
       "      <th>4</th>\n",
       "      <td>Adam_Sandler</td>\n",
       "      <td>data/Images_160/Adam Sandler/114.jpg</td>\n",
       "      <td>data/trainvgg160/Adam Sandler/114.jpg</td>\n",
       "    </tr>\n",
       "  </tbody>\n",
       "</table>\n",
       "</div>"
      ],
      "text/plain": [
       "          label                              copyFrom  \\\n",
       "0  Adam_Sandler  data/Images_160/Adam Sandler/103.jpg   \n",
       "1  Adam_Sandler  data/Images_160/Adam Sandler/108.jpg   \n",
       "2  Adam_Sandler   data/Images_160/Adam Sandler/11.jpg   \n",
       "3  Adam_Sandler  data/Images_160/Adam Sandler/111.jpg   \n",
       "4  Adam_Sandler  data/Images_160/Adam Sandler/114.jpg   \n",
       "\n",
       "                                destName  \n",
       "0   data/testvgg160/Adam Sandler/103.jpg  \n",
       "1   data/testvgg160/Adam Sandler/108.jpg  \n",
       "2   data/trainvgg160/Adam Sandler/11.jpg  \n",
       "3  data/trainvgg160/Adam Sandler/111.jpg  \n",
       "4  data/trainvgg160/Adam Sandler/114.jpg  "
      ]
     },
     "execution_count": 17,
     "metadata": {},
     "output_type": "execute_result"
    }
   ],
   "source": [
    "df.head()"
   ]
  },
  {
   "cell_type": "code",
   "execution_count": 18,
   "metadata": {},
   "outputs": [
    {
     "name": "stdout",
     "output_type": "stream",
     "text": [
      "0 500 1000 1500 2000 2500 3000 3500 4000 4500 5000 5500 6000 6500 7000 7500 8000 8500 9000 9500 10000 10500 11000 11500 12000 12500 13000 13500 "
     ]
    }
   ],
   "source": [
    "for rows in df.itertuples():\n",
    "    temp = \"/\".join(rows.destName.split(\"/\")[:-1])\n",
    "    if not os.path.exists(temp):\n",
    "        os.makedirs(temp)\n",
    "    copyfile(rows.copyFrom,rows.destName)\n",
    "    if rows.Index % 500 == 0:\n",
    "        print(rows.Index,end=\" \")"
   ]
  },
  {
   "cell_type": "code",
   "execution_count": null,
   "metadata": {},
   "outputs": [],
   "source": []
  }
 ],
 "metadata": {
  "kernelspec": {
   "display_name": "Python 3",
   "language": "python",
   "name": "python3"
  },
  "language_info": {
   "codemirror_mode": {
    "name": "ipython",
    "version": 3
   },
   "file_extension": ".py",
   "mimetype": "text/x-python",
   "name": "python",
   "nbconvert_exporter": "python",
   "pygments_lexer": "ipython3",
   "version": "3.6.4"
  }
 },
 "nbformat": 4,
 "nbformat_minor": 2
}

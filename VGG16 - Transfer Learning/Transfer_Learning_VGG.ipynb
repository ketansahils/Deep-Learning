{
 "cells": [
  {
   "cell_type": "markdown",
   "metadata": {},
   "source": [
    "## We have 83 celebrities, each with 100 images for training (i.e. 8300 total) and about 5546 images in test set."
   ]
  },
  {
   "cell_type": "markdown",
   "metadata": {},
   "source": [
    "## With such little training data, we use \n",
    "* VGG16 pretrained model upto the bottleneck layer \n",
    "* Add a dense, dropout and softmax layer\n",
    "* Re-train the model with good accuracy scores"
   ]
  },
  {
   "cell_type": "code",
   "execution_count": null,
   "metadata": {
    "colab": {},
    "colab_type": "code",
    "id": "Xt1ReNaIKD7g"
   },
   "outputs": [],
   "source": [
    "import zipfile"
   ]
  },
  {
   "cell_type": "code",
   "execution_count": 0,
   "metadata": {
    "colab": {},
    "colab_type": "code",
    "id": "dR3vtj-1KFl_"
   },
   "outputs": [],
   "source": [
    "train_archive = zipfile.ZipFile(\"PATH_TO/trainvgg160.zip\",'r')\n",
    "test_archive = zipfile.ZipFile(\"PATH_TO/testvgg160.zip\",'r')"
   ]
  },
  {
   "cell_type": "code",
   "execution_count": 0,
   "metadata": {
    "colab": {},
    "colab_type": "code",
    "id": "Wrl9a1JzKtHy"
   },
   "outputs": [],
   "source": [
    "train_archive.extractall(\"./images/train_images/\")\n",
    "test_archive.extractall(\"./images/test_images/\")"
   ]
  },
  {
   "cell_type": "code",
   "execution_count": 6,
   "metadata": {
    "colab": {
     "base_uri": "https://localhost:8080/",
     "height": 35
    },
    "colab_type": "code",
    "id": "ITaMk38sFoXW",
    "outputId": "71b615e5-eaea-403d-ed64-b20dc6f6c108"
   },
   "outputs": [
    {
     "name": "stderr",
     "output_type": "stream",
     "text": [
      "Using TensorFlow backend.\n"
     ]
    }
   ],
   "source": [
    "import numpy as np\n",
    "from keras.applications import VGG16\n",
    "\n",
    "import numpy as np\n",
    "import os\n",
    "import PIL\n",
    "import time\n",
    "\n",
    "from IPython import display"
   ]
  },
  {
   "cell_type": "code",
   "execution_count": 0,
   "metadata": {
    "colab": {},
    "colab_type": "code",
    "id": "gdTIRcPEFoX7"
   },
   "outputs": [],
   "source": [
    "image_size = 160"
   ]
  },
  {
   "cell_type": "markdown",
   "metadata": {},
   "source": [
    "# Load a pre-trained VGG16 Model."
   ]
  },
  {
   "cell_type": "code",
   "execution_count": 8,
   "metadata": {
    "colab": {
     "base_uri": "https://localhost:8080/",
     "height": 129
    },
    "colab_type": "code",
    "id": "fMgvlPWGFoYI",
    "outputId": "015c8302-e0cb-47dc-eeed-a9ecf8654576"
   },
   "outputs": [
    {
     "name": "stdout",
     "output_type": "stream",
     "text": [
      "WARNING:tensorflow:From /usr/local/lib/python3.6/dist-packages/tensorflow/python/framework/op_def_library.py:263: colocate_with (from tensorflow.python.framework.ops) is deprecated and will be removed in a future version.\n",
      "Instructions for updating:\n",
      "Colocations handled automatically by placer.\n",
      "Downloading data from https://github.com/fchollet/deep-learning-models/releases/download/v0.1/vgg16_weights_tf_dim_ordering_tf_kernels_notop.h5\n",
      "58892288/58889256 [==============================] - 3s 0us/step\n"
     ]
    }
   ],
   "source": [
    "#Load the VGG model\n",
    "vgg_conv = VGG16(weights='imagenet', include_top=False, input_shape=(image_size, image_size, 3))"
   ]
  },
  {
   "cell_type": "code",
   "execution_count": 9,
   "metadata": {
    "colab": {
     "base_uri": "https://localhost:8080/",
     "height": 366
    },
    "colab_type": "code",
    "id": "MeK7y6UfFoYS",
    "outputId": "89161a76-9df4-42fa-c24a-4a2b070938eb"
   },
   "outputs": [
    {
     "name": "stdout",
     "output_type": "stream",
     "text": [
      "<keras.engine.input_layer.InputLayer object at 0x7f36e54c1c88> False\n",
      "<keras.layers.convolutional.Conv2D object at 0x7f36a90b8da0> False\n",
      "<keras.layers.convolutional.Conv2D object at 0x7f36a90b8c18> False\n",
      "<keras.layers.pooling.MaxPooling2D object at 0x7f36a90dae48> False\n",
      "<keras.layers.convolutional.Conv2D object at 0x7f36a90744e0> False\n",
      "<keras.layers.convolutional.Conv2D object at 0x7f36a90a72e8> False\n",
      "<keras.layers.pooling.MaxPooling2D object at 0x7f36a903d9e8> False\n",
      "<keras.layers.convolutional.Conv2D object at 0x7f36a903d4a8> False\n",
      "<keras.layers.convolutional.Conv2D object at 0x7f36a906b208> False\n",
      "<keras.layers.convolutional.Conv2D object at 0x7f36a9001cc0> False\n",
      "<keras.layers.pooling.MaxPooling2D object at 0x7f36a9018e10> False\n",
      "<keras.layers.convolutional.Conv2D object at 0x7f36a90294a8> False\n",
      "<keras.layers.convolutional.Conv2D object at 0x7f36a8fdc160> False\n",
      "<keras.layers.convolutional.Conv2D object at 0x7f36a8fee7b8> False\n",
      "<keras.layers.pooling.MaxPooling2D object at 0x7f36a8f8ab38> False\n",
      "<keras.layers.convolutional.Conv2D object at 0x7f36a8f8add8> True\n",
      "<keras.layers.convolutional.Conv2D object at 0x7f36a8fb1a58> True\n",
      "<keras.layers.convolutional.Conv2D object at 0x7f36a8f47eb8> True\n",
      "<keras.layers.pooling.MaxPooling2D object at 0x7f36a8ef7a90> True\n"
     ]
    }
   ],
   "source": [
    "for layer in vgg_conv.layers[:-4]:\n",
    "    layer.trainable = False\n",
    "\n",
    "for layer in vgg_conv.layers:\n",
    "    print(layer, layer.trainable)"
   ]
  },
  {
   "cell_type": "code",
   "execution_count": 10,
   "metadata": {
    "colab": {
     "base_uri": "https://localhost:8080/",
     "height": 404
    },
    "colab_type": "code",
    "id": "YiJySdDAFoYc",
    "outputId": "1776d59c-b9ae-413c-9d5b-5dd8244c31c0"
   },
   "outputs": [
    {
     "name": "stdout",
     "output_type": "stream",
     "text": [
      "WARNING:tensorflow:From /usr/local/lib/python3.6/dist-packages/keras/backend/tensorflow_backend.py:3445: calling dropout (from tensorflow.python.ops.nn_ops) with keep_prob is deprecated and will be removed in a future version.\n",
      "Instructions for updating:\n",
      "Please use `rate` instead of `keep_prob`. Rate should be set to `rate = 1 - keep_prob`.\n",
      "_________________________________________________________________\n",
      "Layer (type)                 Output Shape              Param #   \n",
      "=================================================================\n",
      "vgg16 (Model)                (None, 5, 5, 512)         14714688  \n",
      "_________________________________________________________________\n",
      "flatten_1 (Flatten)          (None, 12800)             0         \n",
      "_________________________________________________________________\n",
      "dense_1 (Dense)              (None, 1024)              13108224  \n",
      "_________________________________________________________________\n",
      "dropout_1 (Dropout)          (None, 1024)              0         \n",
      "_________________________________________________________________\n",
      "dense_2 (Dense)              (None, 83)                85075     \n",
      "=================================================================\n",
      "Total params: 27,907,987\n",
      "Trainable params: 20,272,723\n",
      "Non-trainable params: 7,635,264\n",
      "_________________________________________________________________\n"
     ]
    }
   ],
   "source": [
    "from keras import models\n",
    "from keras import layers\n",
    "from keras import optimizers\n",
    " \n",
    "# Create a Keras Sequential Model\n",
    "model = models.Sequential()\n",
    " \n",
    "# Add the vgg16 convolutional base model\n",
    "model.add(vgg_conv)\n",
    " \n",
    "# Add new layers, a 1024 dim Dense layer, 50% Dropout and Softmax layer with 83 celebrities\n",
    "model.add(layers.Flatten())\n",
    "model.add(layers.Dense(1024, activation='relu'))\n",
    "model.add(layers.Dropout(0.5))\n",
    "model.add(layers.Dense(83, activation='softmax'))\n",
    "\n",
    "\n",
    "# Show a summary of the model. Check the number of trainable parameters\n",
    "model.summary()"
   ]
  },
  {
   "cell_type": "markdown",
   "metadata": {},
   "source": [
    "# This is a very deep conv net"
   ]
  },
  {
   "cell_type": "code",
   "execution_count": 0,
   "metadata": {
    "colab": {},
    "colab_type": "code",
    "id": "wOAxHnRMFoYr"
   },
   "outputs": [],
   "source": [
    "train_dir = \"./images/train_images/trainvgg160\"\n",
    "validation_dir = \"./images/test_images/testvgg160/\""
   ]
  },
  {
   "cell_type": "code",
   "execution_count": 0,
   "metadata": {
    "colab": {},
    "colab_type": "code",
    "id": "n4-y2aiWFoY1"
   },
   "outputs": [],
   "source": [
    "from keras.preprocessing.image import ImageDataGenerator, load_img"
   ]
  },
  {
   "cell_type": "markdown",
   "metadata": {},
   "source": [
    "# Create a Data Generator for both Test and Train"
   ]
  },
  {
   "cell_type": "code",
   "execution_count": 13,
   "metadata": {
    "colab": {
     "base_uri": "https://localhost:8080/",
     "height": 54
    },
    "colab_type": "code",
    "id": "nu3tpciTFoZG",
    "outputId": "cef02308-a8e6-4e61-bd2d-f508f6a9a93b"
   },
   "outputs": [
    {
     "name": "stdout",
     "output_type": "stream",
     "text": [
      "Found 8300 images belonging to 83 classes.\n",
      "Found 5546 images belonging to 83 classes.\n"
     ]
    }
   ],
   "source": [
    "train_datagen = ImageDataGenerator(\n",
    "      rescale=1./255,\n",
    "      rotation_range=20,\n",
    "      width_shift_range=0.2,\n",
    "      height_shift_range=0.2,\n",
    "      horizontal_flip=True,\n",
    "      fill_mode='nearest')\n",
    " \n",
    "validation_datagen = ImageDataGenerator(rescale=1./255)\n",
    " \n",
    "# Change the batchsize according to your system RAM\n",
    "train_batchsize = 128\n",
    "val_batchsize = 10\n",
    " \n",
    "train_generator = train_datagen.flow_from_directory(\n",
    "        train_dir,\n",
    "        target_size=(image_size, image_size),\n",
    "        batch_size=train_batchsize,\n",
    "        class_mode='categorical')\n",
    " \n",
    "validation_generator = validation_datagen.flow_from_directory(\n",
    "        validation_dir,\n",
    "        target_size=(image_size, image_size),\n",
    "        batch_size=val_batchsize,\n",
    "        class_mode='categorical',\n",
    "        shuffle=False)"
   ]
  },
  {
   "cell_type": "code",
   "execution_count": 0,
   "metadata": {
    "colab": {},
    "colab_type": "code",
    "id": "1iBzvjCA0MS4"
   },
   "outputs": [],
   "source": [
    "# Compile the model\n",
    "model.compile(loss='categorical_crossentropy',\n",
    "              optimizer=optimizers.RMSprop(lr=1e-4),\n",
    "              metrics=['acc'])"
   ]
  },
  {
   "cell_type": "markdown",
   "metadata": {},
   "source": [
    "# The model below is loaded, in case more training is required when an epoch ends. At the end of each epoch, however, we will save the intermediate model."
   ]
  },
  {
   "cell_type": "code",
   "execution_count": 0,
   "metadata": {
    "colab": {},
    "colab_type": "code",
    "id": "An_uAJZRAtkA"
   },
   "outputs": [],
   "source": [
    "from keras.models import load_model\n",
    "model = load_model('./vgg_2.h5')"
   ]
  },
  {
   "cell_type": "code",
   "execution_count": 21,
   "metadata": {
    "colab": {
     "base_uri": "https://localhost:8080/",
     "height": 384
    },
    "colab_type": "code",
    "id": "FqZvVOqhFoZS",
    "outputId": "cca19fe2-1cd0-44a6-c641-adf4018a6c53"
   },
   "outputs": [
    {
     "name": "stdout",
     "output_type": "stream",
     "text": [
      "Epoch 1/10\n",
      "65/64 [==============================] - 115s 2s/step - loss: 0.7402 - acc: 0.7838 - val_loss: 1.2256 - val_acc: 0.6980\n",
      "Epoch 2/10\n",
      "65/64 [==============================] - 106s 2s/step - loss: 0.6932 - acc: 0.7969 - val_loss: 1.2380 - val_acc: 0.6926\n",
      "Epoch 3/10\n",
      "65/64 [==============================] - 105s 2s/step - loss: 0.6652 - acc: 0.8036 - val_loss: 1.1090 - val_acc: 0.7036\n",
      "Epoch 4/10\n",
      "65/64 [==============================] - 105s 2s/step - loss: 0.5867 - acc: 0.8305 - val_loss: 1.2158 - val_acc: 0.6931\n",
      "Epoch 5/10\n",
      "65/64 [==============================] - 106s 2s/step - loss: 0.5498 - acc: 0.8365 - val_loss: 1.2312 - val_acc: 0.6933\n",
      "Epoch 6/10\n",
      "65/64 [==============================] - 106s 2s/step - loss: 0.5270 - acc: 0.8442 - val_loss: 1.1523 - val_acc: 0.7079\n",
      "Epoch 7/10\n",
      "65/64 [==============================] - 105s 2s/step - loss: 0.4858 - acc: 0.8558 - val_loss: 1.3546 - val_acc: 0.6803\n",
      "Epoch 8/10\n",
      "65/64 [==============================] - 106s 2s/step - loss: 0.4360 - acc: 0.8676 - val_loss: 1.2966 - val_acc: 0.6962\n",
      "Epoch 9/10\n",
      "65/64 [==============================] - 105s 2s/step - loss: 0.4488 - acc: 0.8622 - val_loss: 1.3568 - val_acc: 0.6904\n",
      "Epoch 10/10\n",
      "65/64 [==============================] - 105s 2s/step - loss: 0.3939 - acc: 0.8812 - val_loss: 1.2658 - val_acc: 0.7077\n"
     ]
    }
   ],
   "source": [
    "# Train the model\n",
    "history = model.fit_generator(\n",
    "      train_generator,\n",
    "      steps_per_epoch=train_generator.samples/train_generator.batch_size ,\n",
    "      epochs=10,\n",
    "      validation_data=validation_generator,\n",
    "      validation_steps=validation_generator.samples/validation_generator.batch_size,\n",
    "      verbose=1)\n",
    " \n",
    "# Save the model\n",
    "model.save('vgg_3.h5')"
   ]
  },
  {
   "cell_type": "markdown",
   "metadata": {},
   "source": [
    "# We note that the training and validation accuracies increase. This means that the model is re-training well.\n",
    "# Let's see the plots now."
   ]
  },
  {
   "cell_type": "code",
   "execution_count": 23,
   "metadata": {
    "colab": {
     "base_uri": "https://localhost:8080/",
     "height": 707
    },
    "colab_type": "code",
    "id": "buc2uxBPsqCn",
    "outputId": "2bd6962b-f5c3-4097-dc91-d2ab9ecd95aa"
   },
   "outputs": [
    {
     "data": {
      "image/png": "[encoded data removed]",
      "text/plain": [
       "<Figure size 576x396 with 1 Axes>"
      ]
     },
     "metadata": {
      "tags": []
     },
     "output_type": "display_data"
    },
    {
     "data": {
      "image/png": "[encoded data removed]",
      "text/plain": [
       "<Figure size 576x396 with 1 Axes>"
      ]
     },
     "metadata": {
      "tags": []
     },
     "output_type": "display_data"
    }
   ],
   "source": [
    "import matplotlib.pyplot as plt\n",
    "\n",
    "acc = history.history['acc']\n",
    "val_acc = history.history['val_acc']\n",
    "loss = history.history['loss']\n",
    "val_loss = history.history['val_loss']\n",
    " \n",
    "epochs = range(len(acc))\n",
    " \n",
    "plt.plot(epochs, acc, 'b', label='Training acc')\n",
    "plt.plot(epochs, val_acc, 'r', label='Validation acc')\n",
    "plt.title('Training and validation accuracy')\n",
    "plt.legend()\n",
    " \n",
    "plt.figure()\n",
    " \n",
    "plt.plot(epochs, loss, 'b', label='Training loss')\n",
    "plt.plot(epochs, val_loss, 'r', label='Validation loss')\n",
    "plt.title('Training and validation loss')\n",
    "plt.legend()\n",
    " \n",
    "plt.show()"
   ]
  },
  {
   "cell_type": "code",
   "execution_count": 25,
   "metadata": {
    "colab": {
     "base_uri": "https://localhost:8080/",
     "height": 54
    },
    "colab_type": "code",
    "id": "iha3bfHQJ7us",
    "outputId": "25c87149-4151-4694-90fb-962b56e68111"
   },
   "outputs": [
    {
     "name": "stdout",
     "output_type": "stream",
     "text": [
      "Found 5546 images belonging to 83 classes.\n",
      "555/554 [==============================] - 45s 81ms/step\n"
     ]
    }
   ],
   "source": [
    "validation_generator = validation_datagen.flow_from_directory(\n",
    "        validation_dir,\n",
    "        target_size=(image_size, image_size),\n",
    "        batch_size=val_batchsize,\n",
    "        class_mode='categorical',\n",
    "        shuffle=False)\n",
    " \n",
    "# Get the filenames from the generator\n",
    "fnames = validation_generator.filenames\n",
    " \n",
    "# Get the ground truth from generator\n",
    "ground_truth = validation_generator.classes\n",
    " \n",
    "# Get the label to class mapping from the generator\n",
    "label2index = validation_generator.class_indices\n",
    " \n",
    "# Getting the mapping from class index to class label\n",
    "idx2label = dict((v,k) for k,v in label2index.items())\n",
    "predictions = model.predict_generator(validation_generator, steps=validation_generator.samples/validation_generator.batch_size,verbose=1)"
   ]
  },
  {
   "cell_type": "markdown",
   "metadata": {},
   "source": [
    "# Let's calculate the top 1,5 accuracies for Test data"
   ]
  },
  {
   "cell_type": "code",
   "execution_count": 26,
   "metadata": {
    "colab": {
     "base_uri": "https://localhost:8080/",
     "height": 35
    },
    "colab_type": "code",
    "id": "VIbeubpgKtRm",
    "outputId": "2429c2c8-efe3-49b4-eca6-4b2e097a4607"
   },
   "outputs": [
    {
     "data": {
      "text/plain": [
       "70.7717"
      ]
     },
     "execution_count": 26,
     "metadata": {
      "tags": []
     },
     "output_type": "execute_result"
    }
   ],
   "source": [
    "top_preds = []\n",
    "for item in predictions:\n",
    "  top = np.argsort(item)[-1:][::-1]\n",
    "  top_preds.append(top)\n",
    "\n",
    "accurates = []\n",
    "for i,item in enumerate(ground_truth):\n",
    "  if item in top_preds[i]:\n",
    "    accurates.append(1)\n",
    "  else:\n",
    "    accurates.append(0)\n",
    "    \n",
    "np.round(100*sum(accurates)/len(accurates),4)"
   ]
  },
  {
   "cell_type": "code",
   "execution_count": 27,
   "metadata": {
    "colab": {
     "base_uri": "https://localhost:8080/",
     "height": 35
    },
    "colab_type": "code",
    "id": "rrGpdBq1Kyt8",
    "outputId": "3705f2be-6871-4e4d-c482-34c2a7943b35"
   },
   "outputs": [
    {
     "data": {
      "text/plain": [
       "90.9845"
      ]
     },
     "execution_count": 27,
     "metadata": {
      "tags": []
     },
     "output_type": "execute_result"
    }
   ],
   "source": [
    "top_5_preds = []\n",
    "for item in predictions:\n",
    "  top_5 = np.argsort(item)[-5:][::-1]\n",
    "  top_5_preds.append(top_5)\n",
    "\n",
    "accurates_5 = []\n",
    "for i,item in enumerate(ground_truth):\n",
    "  if item in top_5_preds[i]:\n",
    "    accurates_5.append(1)\n",
    "  else:\n",
    "    accurates_5.append(0)\n",
    "    \n",
    "np.round(100*sum(accurates_5)/len(accurates_5),4)"
   ]
  },
  {
   "cell_type": "code",
   "execution_count": 0,
   "metadata": {
    "colab": {},
    "colab_type": "code",
    "id": "AZqP1S_uUyW_"
   },
   "outputs": [],
   "source": [
    "predictions = model.predict_generator(validation_generator, steps=validation_generator.samples/validation_generator.batch_size,verbose=1)\n",
    "predicted_classes = np.argmax(predictions,axis=1)\n",
    " \n",
    "errors = np.where(predicted_classes != ground_truth)[0]\n",
    "print(\"No of errors = {}/{}\".format(len(errors),validation_generator.samples))\n"
   ]
  },
  {
   "cell_type": "markdown",
   "metadata": {},
   "source": [
    "# Let's see a few misclassifications"
   ]
  },
  {
   "cell_type": "code",
   "execution_count": null,
   "metadata": {
    "colab": {
     "base_uri": "https://localhost:8080/",
     "height": 16553
    },
    "colab_type": "code",
    "id": "vZxUJDaMU8uC",
    "outputId": "f63b7093-ddc4-444d-e2d7-61ae3284a96a"
   },
   "outputs": [],
   "source": [
    "for i in range(len(errors)):\n",
    "    pred_class = np.argmax(predictions[errors[i]])\n",
    "    pred_label = idx2label[pred_class]\n",
    "     \n",
    "    title = 'Original label:{}, Prediction :{}, confidence : {:.3f}'.format(\n",
    "        fnames[errors[i]].split('/')[0],\n",
    "        pred_label,\n",
    "        predictions[errors[i]][pred_class])\n",
    "     \n",
    "    original = load_img('{}/{}'.format(validation_dir,fnames[errors[i]]))\n",
    "    plt.figure(figsize=[5,5])\n",
    "    plt.axis('off')\n",
    "    plt.title(title)\n",
    "    plt.imshow(original)\n",
    "    plt.show()\n",
    "    if i > 50:\n",
    "      break"
   ]
  },
  {
   "cell_type": "code",
   "execution_count": 0,
   "metadata": {
    "colab": {},
    "colab_type": "code",
    "id": "6GHGRhlWVWNL"
   },
   "outputs": [],
   "source": []
  }
 ],
 "metadata": {
  "accelerator": "GPU",
  "colab": {
   "collapsed_sections": [],
   "name": "Transfer-Learning-VGG.ipynb",
   "provenance": [],
   "version": "0.3.2"
  },
  "kernelspec": {
   "display_name": "Python 3",
   "language": "python",
   "name": "python3"
  },
  "language_info": {
   "codemirror_mode": {
    "name": "ipython",
    "version": 3
   },
   "file_extension": ".py",
   "mimetype": "text/x-python",
   "name": "python",
   "nbconvert_exporter": "python",
   "pygments_lexer": "ipython3",
   "version": "3.6.4"
  }
 },
 "nbformat": 4,
 "nbformat_minor": 1
}
